{
 "cells": [
  {
   "cell_type": "code",
   "execution_count": 4,
   "metadata": {},
   "outputs": [],
   "source": [
    "import quandl\n",
    "import pandas as pd\n",
    "import json\n",
    "\n",
    "#https://www.quandl.com/api/v3/datasets/EOD/AAPL.csv?api_key=YOURAPIKEY\n",
    "quandl.ApiConfig.api_key = \"5zVMFDQCasREWkX37AQG\"    \n",
    "dataset_data = quandl.Dataset('WIKI/AAPL').data(params={ 'start_date':'2017-01-01', 'end_date':'2018-01-01', 'collapse':'annual', 'transformation':'rdiff', 'rows':4 })\n",
    "\n"
   ]
  },
  {
   "cell_type": "code",
   "execution_count": 3,
   "metadata": {},
   "outputs": [
    {
     "data": {
      "text/html": [
       "<div>\n",
       "<style scoped>\n",
       "    .dataframe tbody tr th:only-of-type {\n",
       "        vertical-align: middle;\n",
       "    }\n",
       "\n",
       "    .dataframe tbody tr th {\n",
       "        vertical-align: top;\n",
       "    }\n",
       "\n",
       "    .dataframe thead th {\n",
       "        text-align: right;\n",
       "    }\n",
       "</style>\n",
       "<table border=\"1\" class=\"dataframe\">\n",
       "  <thead>\n",
       "    <tr style=\"text-align: right;\">\n",
       "      <th></th>\n",
       "      <th>Open</th>\n",
       "      <th>High</th>\n",
       "      <th>Low</th>\n",
       "      <th>Close</th>\n",
       "      <th>Volume</th>\n",
       "      <th>Ex-Dividend</th>\n",
       "      <th>Split Ratio</th>\n",
       "      <th>Adj. Open</th>\n",
       "      <th>Adj. High</th>\n",
       "      <th>Adj. Low</th>\n",
       "      <th>Adj. Close</th>\n",
       "      <th>Adj. Volume</th>\n",
       "    </tr>\n",
       "    <tr>\n",
       "      <th>Date</th>\n",
       "      <th></th>\n",
       "      <th></th>\n",
       "      <th></th>\n",
       "      <th></th>\n",
       "      <th></th>\n",
       "      <th></th>\n",
       "      <th></th>\n",
       "      <th></th>\n",
       "      <th></th>\n",
       "      <th></th>\n",
       "      <th></th>\n",
       "      <th></th>\n",
       "    </tr>\n",
       "  </thead>\n",
       "  <tbody>\n",
       "    <tr>\n",
       "      <th>2010-01-05</th>\n",
       "      <td>0.042042</td>\n",
       "      <td>0.074357</td>\n",
       "      <td>0.049392</td>\n",
       "      <td>0.069297</td>\n",
       "      <td>0.512562</td>\n",
       "      <td>None</td>\n",
       "      <td>0.0</td>\n",
       "      <td>0.042042</td>\n",
       "      <td>0.074357</td>\n",
       "      <td>0.049392</td>\n",
       "      <td>0.069297</td>\n",
       "      <td>0.512562</td>\n",
       "    </tr>\n",
       "    <tr>\n",
       "      <th>2010-01-06</th>\n",
       "      <td>0.068204</td>\n",
       "      <td>0.070985</td>\n",
       "      <td>0.069231</td>\n",
       "      <td>0.064806</td>\n",
       "      <td>0.186729</td>\n",
       "      <td>None</td>\n",
       "      <td>0.0</td>\n",
       "      <td>0.068204</td>\n",
       "      <td>0.070985</td>\n",
       "      <td>0.069231</td>\n",
       "      <td>0.064806</td>\n",
       "      <td>0.186729</td>\n",
       "    </tr>\n",
       "    <tr>\n",
       "      <th>2010-01-07</th>\n",
       "      <td>0.075540</td>\n",
       "      <td>0.006628</td>\n",
       "      <td>0.020683</td>\n",
       "      <td>-0.000845</td>\n",
       "      <td>-0.265421</td>\n",
       "      <td>None</td>\n",
       "      <td>0.0</td>\n",
       "      <td>0.075540</td>\n",
       "      <td>0.006628</td>\n",
       "      <td>0.020683</td>\n",
       "      <td>-0.000845</td>\n",
       "      <td>-0.265421</td>\n",
       "    </tr>\n",
       "    <tr>\n",
       "      <th>2010-01-08</th>\n",
       "      <td>-0.010033</td>\n",
       "      <td>-0.012346</td>\n",
       "      <td>0.015859</td>\n",
       "      <td>0.014382</td>\n",
       "      <td>-0.391475</td>\n",
       "      <td>None</td>\n",
       "      <td>0.0</td>\n",
       "      <td>-0.010033</td>\n",
       "      <td>-0.012346</td>\n",
       "      <td>0.015859</td>\n",
       "      <td>0.014382</td>\n",
       "      <td>-0.391475</td>\n",
       "    </tr>\n",
       "  </tbody>\n",
       "</table>\n",
       "</div>"
      ],
      "text/plain": [
       "                Open      High       Low     Close    Volume Ex-Dividend  \\\n",
       "Date                                                                       \n",
       "2010-01-05  0.042042  0.074357  0.049392  0.069297  0.512562        None   \n",
       "2010-01-06  0.068204  0.070985  0.069231  0.064806  0.186729        None   \n",
       "2010-01-07  0.075540  0.006628  0.020683 -0.000845 -0.265421        None   \n",
       "2010-01-08 -0.010033 -0.012346  0.015859  0.014382 -0.391475        None   \n",
       "\n",
       "            Split Ratio  Adj. Open  Adj. High  Adj. Low  Adj. Close  \\\n",
       "Date                                                                  \n",
       "2010-01-05          0.0   0.042042   0.074357  0.049392    0.069297   \n",
       "2010-01-06          0.0   0.068204   0.070985  0.069231    0.064806   \n",
       "2010-01-07          0.0   0.075540   0.006628  0.020683   -0.000845   \n",
       "2010-01-08          0.0  -0.010033  -0.012346  0.015859    0.014382   \n",
       "\n",
       "            Adj. Volume  \n",
       "Date                     \n",
       "2010-01-05     0.512562  \n",
       "2010-01-06     0.186729  \n",
       "2010-01-07    -0.265421  \n",
       "2010-01-08    -0.391475  "
      ]
     },
     "execution_count": 3,
     "metadata": {},
     "output_type": "execute_result"
    }
   ],
   "source": [
    "import quandl\n",
    "data = quandl.get('WIKI/APL', start_date='2010-01-01', end_date='2014-01-01',\n",
    "                  collapse='month', transformation='rdiff',\n",
    "                  rows=4)\n",
    "data.head()"
   ]
  },
  {
   "cell_type": "code",
   "execution_count": 27,
   "metadata": {},
   "outputs": [
    {
     "ename": "AttributeError",
     "evalue": "'list' object has no attribute 'head'",
     "output_type": "error",
     "traceback": [
      "\u001b[1;31m---------------------------------------------------------------------------\u001b[0m",
      "\u001b[1;31mAttributeError\u001b[0m                            Traceback (most recent call last)",
      "\u001b[1;32m<ipython-input-27-570a1f599754>\u001b[0m in \u001b[0;36m<module>\u001b[1;34m()\u001b[0m\n\u001b[0;32m      8\u001b[0m         \u001b[1;32mbreak\u001b[0m\u001b[1;33m\u001b[0m\u001b[0m\n\u001b[0;32m      9\u001b[0m \u001b[1;33m\u001b[0m\u001b[0m\n\u001b[1;32m---> 10\u001b[1;33m \u001b[0mdata_list\u001b[0m\u001b[1;33m.\u001b[0m\u001b[0mhead\u001b[0m\u001b[1;33m(\u001b[0m\u001b[1;33m)\u001b[0m\u001b[1;33m\u001b[0m\u001b[0m\n\u001b[0m",
      "\u001b[1;31mAttributeError\u001b[0m: 'list' object has no attribute 'head'"
     ]
    }
   ],
   "source": [
    "data_list = []\n",
    "cursor_id = None\n",
    "while True:\n",
    "    data = quandl.Datatable('ZACKS/FC').data(params={'ticker': ['AAPL','MSFT'], 'per_end_date': {'gte': '2015-01-01'}, 'qopts': {'columns': ['ticker', 'comp_name'], 'cursor_id': cursor_id}})\n",
    "    cursor_id = data.meta['next_cursor_id']\n",
    "    data_list.append(data)\n",
    "    if cursor_id is None:\n",
    "        break\n",
    "        \n",
    "data_list.head()"
   ]
  },
  {
   "cell_type": "code",
   "execution_count": 7,
   "metadata": {},
   "outputs": [],
   "source": [
    "import matplotlib.pyplot as plt\n",
    "import pandas as pd\n",
    "import numpy as np\n",
    "import os\n",
    "\n",
    "\n",
    "csvpath = os.path.join('NASDAQOMX-COMP (1).csv')\n"
   ]
  },
  {
   "cell_type": "code",
   "execution_count": 8,
   "metadata": {},
   "outputs": [
    {
     "data": {
      "text/plain": [
       "RangeIndex(start=0, stop=3830, step=1)"
      ]
     },
     "execution_count": 8,
     "metadata": {},
     "output_type": "execute_result"
    }
   ],
   "source": [
    "NASDAQ = pd.read_csv('NASDAQOMX-COMP (1).csv')\n",
    "\n",
    "NASDAQ.head()\n",
    "\n",
    "NASDAQ.index"
   ]
  },
  {
   "cell_type": "code",
   "execution_count": 9,
   "metadata": {},
   "outputs": [
    {
     "data": {
      "text/html": [
       "<div>\n",
       "<style scoped>\n",
       "    .dataframe tbody tr th:only-of-type {\n",
       "        vertical-align: middle;\n",
       "    }\n",
       "\n",
       "    .dataframe tbody tr th {\n",
       "        vertical-align: top;\n",
       "    }\n",
       "\n",
       "    .dataframe thead th {\n",
       "        text-align: right;\n",
       "    }\n",
       "</style>\n",
       "<table border=\"1\" class=\"dataframe\">\n",
       "  <thead>\n",
       "    <tr style=\"text-align: right;\">\n",
       "      <th></th>\n",
       "      <th>index</th>\n",
       "      <th>Trade Date</th>\n",
       "      <th>Index Value</th>\n",
       "      <th>High</th>\n",
       "      <th>Low</th>\n",
       "      <th>Total Market Value</th>\n",
       "      <th>Dividend Market Value</th>\n",
       "    </tr>\n",
       "  </thead>\n",
       "  <tbody>\n",
       "    <tr>\n",
       "      <th>0</th>\n",
       "      <td>0</td>\n",
       "      <td>2018-04-10</td>\n",
       "      <td>7094.30</td>\n",
       "      <td>7117.98</td>\n",
       "      <td>7014.88</td>\n",
       "      <td>1.079392e+13</td>\n",
       "      <td>0.000000e+00</td>\n",
       "    </tr>\n",
       "    <tr>\n",
       "      <th>1</th>\n",
       "      <td>1</td>\n",
       "      <td>2018-04-09</td>\n",
       "      <td>6950.34</td>\n",
       "      <td>7074.95</td>\n",
       "      <td>6944.96</td>\n",
       "      <td>1.057449e+13</td>\n",
       "      <td>1.323016e+08</td>\n",
       "    </tr>\n",
       "    <tr>\n",
       "      <th>2</th>\n",
       "      <td>2</td>\n",
       "      <td>2018-04-06</td>\n",
       "      <td>6915.11</td>\n",
       "      <td>7066.64</td>\n",
       "      <td>6877.76</td>\n",
       "      <td>1.052083e+13</td>\n",
       "      <td>2.702212e+07</td>\n",
       "    </tr>\n",
       "    <tr>\n",
       "      <th>3</th>\n",
       "      <td>3</td>\n",
       "      <td>2018-04-05</td>\n",
       "      <td>7076.55</td>\n",
       "      <td>7112.38</td>\n",
       "      <td>7036.62</td>\n",
       "      <td>1.077047e+13</td>\n",
       "      <td>1.548576e+08</td>\n",
       "    </tr>\n",
       "    <tr>\n",
       "      <th>4</th>\n",
       "      <td>4</td>\n",
       "      <td>2018-04-04</td>\n",
       "      <td>7042.11</td>\n",
       "      <td>7059.29</td>\n",
       "      <td>6811.77</td>\n",
       "      <td>1.071804e+13</td>\n",
       "      <td>1.617338e+09</td>\n",
       "    </tr>\n",
       "  </tbody>\n",
       "</table>\n",
       "</div>"
      ],
      "text/plain": [
       "   index  Trade Date  Index Value     High      Low  Total Market Value  \\\n",
       "0      0  2018-04-10      7094.30  7117.98  7014.88        1.079392e+13   \n",
       "1      1  2018-04-09      6950.34  7074.95  6944.96        1.057449e+13   \n",
       "2      2  2018-04-06      6915.11  7066.64  6877.76        1.052083e+13   \n",
       "3      3  2018-04-05      7076.55  7112.38  7036.62        1.077047e+13   \n",
       "4      4  2018-04-04      7042.11  7059.29  6811.77        1.071804e+13   \n",
       "\n",
       "   Dividend Market Value  \n",
       "0           0.000000e+00  \n",
       "1           1.323016e+08  \n",
       "2           2.702212e+07  \n",
       "3           1.548576e+08  \n",
       "4           1.617338e+09  "
      ]
     },
     "execution_count": 9,
     "metadata": {},
     "output_type": "execute_result"
    }
   ],
   "source": [
    "newFrame = NASDAQ.reset_index()\n",
    "newFrame.head()"
   ]
  },
  {
   "cell_type": "code",
   "execution_count": 10,
   "metadata": {},
   "outputs": [
    {
     "data": {
      "text/plain": [
       "Index(['index', 'Trade Date', 'Index Value', 'High', 'Low',\n",
       "       'Total Market Value', 'Dividend Market Value'],\n",
       "      dtype='object')"
      ]
     },
     "execution_count": 10,
     "metadata": {},
     "output_type": "execute_result"
    }
   ],
   "source": [
    "newFrame.columns"
   ]
  },
  {
   "cell_type": "code",
   "execution_count": 11,
   "metadata": {},
   "outputs": [
    {
     "data": {
      "image/png": "[encoded data removed]",
      "text/plain": [
       "<matplotlib.figure.Figure at 0x224f9ac87b8>"
      ]
     },
     "metadata": {},
     "output_type": "display_data"
    }
   ],
   "source": [
    "\n",
    "newFrame.plot(kind=\"scatter\", x=\"index\", y=\"Index Value\", grid=True, figsize=(20,10),\n",
    "              title=\"\")\n",
    "plt.xlabel(\"dates\")\n",
    "plt.ylabel(\"NASDAQ Value\")\n",
    "plt.xlim(3900,-100)\n",
    "plt.show()"
   ]
  },
  {
   "cell_type": "code",
   "execution_count": null,
   "metadata": {},
   "outputs": [],
   "source": []
  }
 ],
 "metadata": {
  "kernelspec": {
   "display_name": "Python 3",
   "language": "python",
   "name": "python3"
  },
  "language_info": {
   "codemirror_mode": {
    "name": "ipython",
    "version": 3
   },
   "file_extension": ".py",
   "mimetype": "text/x-python",
   "name": "python",
   "nbconvert_exporter": "python",
   "pygments_lexer": "ipython3",
   "version": "3.6.4"
  }
 },
 "nbformat": 4,
 "nbformat_minor": 2
}
