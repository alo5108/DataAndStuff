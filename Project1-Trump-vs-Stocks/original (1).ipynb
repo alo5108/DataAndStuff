{
 "cells": [
  {
   "cell_type": "code",
   "execution_count": 1,
   "metadata": {
    "collapsed": true
   },
   "outputs": [],
   "source": [
    "import json\n",
    "import pandas as pd\n",
    "import numpy as np\n",
    "import datetime\n",
    "import re\n",
    "import matplotlib.pyplot as plt\n",
    "# Import and Initialize Sentiment Analyzer\n",
    "from vaderSentiment.vaderSentiment import SentimentIntensityAnalyzer\n",
    "analyzer = SentimentIntensityAnalyzer()\n",
    "source='json3.json'"
   ]
  },
  {
   "cell_type": "code",
   "execution_count": 2,
   "metadata": {
    "collapsed": true
   },
   "outputs": [],
   "source": [
    "fvt_count=[]\n",
    "ret_count=[]\n",
    "texts=[]\n",
    "date_creation=[]\n",
    "cmp_scr=[]\n",
    "sources=[]\n",
    "with open(source, encoding='UTF-8') as datafile:\n",
    "    sample_data=json.load(datafile)\n",
    "    for tweet in sample_data:\n",
    "        date=tweet['created_at']\n",
    "        text=tweet['text']\n",
    "        source=tweet['source']\n",
    "        fvt=tweet['favorite_count']\n",
    "        ret=tweet['retweet_count']\n",
    "        \n",
    "        results = analyzer.polarity_scores(text)\n",
    "        compound = results[\"compound\"]\n",
    "        \n",
    "      \n",
    "        \n",
    "        fvt_count.append(fvt)\n",
    "        ret_count.append(ret)\n",
    "        texts.append(text)\n",
    "        cmp_scr.append(compound)\n",
    "        date_creation.append(date)\n",
    "        sources.append(source)"
   ]
  },
  {
   "cell_type": "code",
   "execution_count": 3,
   "metadata": {},
   "outputs": [],
   "source": [
    "Trump_df=pd.DataFrame({'Date':date_creation,'Tweet':texts,'Compound Score':cmp_scr,'Favorite Counts':fvt_count,\n",
    "                      'Retweet Counts':ret_count,'Tweet Source':sources})\n"
   ]
  },
  {
   "cell_type": "code",
   "execution_count": 4,
   "metadata": {},
   "outputs": [],
   "source": [
    "for date in Trump_df['Date']:\n",
    "    dt=datetime.datetime.strptime(date, \"%a %b %d %H:%M:%S %z %Y\")\n",
    "\n"
   ]
  },
  {
   "cell_type": "code",
   "execution_count": 5,
   "metadata": {
    "collapsed": true
   },
   "outputs": [],
   "source": [
    "daily_dt=pd.to_datetime(Trump_df['Date']).dt.to_period('d')\n",
    "monthly_dt=pd.to_datetime(Trump_df['Date']).dt.to_period('m')"
   ]
  },
  {
   "cell_type": "code",
   "execution_count": null,
   "metadata": {
    "collapsed": true
   },
   "outputs": [],
   "source": []
  },
  {
   "cell_type": "code",
   "execution_count": 6,
   "metadata": {
    "collapsed": true
   },
   "outputs": [],
   "source": [
    "Trump_df[\"New Date\"]=dt\n"
   ]
  },
  {
   "cell_type": "code",
   "execution_count": 7,
   "metadata": {
    "collapsed": true
   },
   "outputs": [],
   "source": [
    "h=Trump_df.groupby('New Date')['Compound Score'].mean()\n"
   ]
  },
  {
   "cell_type": "code",
   "execution_count": 8,
   "metadata": {
    "collapsed": true
   },
   "outputs": [],
   "source": [
    "new=pd.DataFrame({'df':h})\n"
   ]
  },
  {
   "cell_type": "code",
   "execution_count": 9,
   "metadata": {},
   "outputs": [
    {
     "name": "stderr",
     "output_type": "stream",
     "text": [
      "C:\\Users\\alexa\\Anaconda3\\lib\\site-packages\\matplotlib\\axes\\_base.py:2918: UserWarning: Attempting to set identical left==right results\n",
      "in singular transformations; automatically expanding.\n",
      "left=736794.743843, right=736794.743843\n",
      "  'left=%s, right=%s') % (left, right))\n"
     ]
    },
    {
     "data": {
      "text/plain": [
       "<matplotlib.axes._subplots.AxesSubplot at 0x26d686ef4a8>"
      ]
     },
     "execution_count": 9,
     "metadata": {},
     "output_type": "execute_result"
    }
   ],
   "source": [
    "new.plot(kind='line',y='df', figsize=(10,10))"
   ]
  },
  {
   "cell_type": "code",
   "execution_count": null,
   "metadata": {
    "collapsed": true
   },
   "outputs": [],
   "source": []
  }
 ],
 "metadata": {
  "kernelspec": {
   "display_name": "Python 3",
   "language": "python",
   "name": "python3"
  },
  "language_info": {
   "codemirror_mode": {
    "name": "ipython",
    "version": 3
   },
   "file_extension": ".py",
   "mimetype": "text/x-python",
   "name": "python",
   "nbconvert_exporter": "python",
   "pygments_lexer": "ipython3",
   "version": "3.6.3"
  }
 },
 "nbformat": 4,
 "nbformat_minor": 2
}
