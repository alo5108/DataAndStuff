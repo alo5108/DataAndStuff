{
 "cells": [
  {
   "cell_type": "code",
   "execution_count": 17,
   "metadata": {
    "collapsed": true
   },
   "outputs": [],
   "source": [
    "import json\n",
    "import pandas as pd\n",
    "import numpy as np\n",
    "import datetime\n",
    "import re\n",
    "import matplotlib.pyplot as plt\n",
    "# Import and Initialize Sentiment Analyzer\n",
    "from vaderSentiment.vaderSentiment import SentimentIntensityAnalyzer\n",
    "analyzer = SentimentIntensityAnalyzer()\n",
    "source='new 2.json'"
   ]
  },
  {
   "cell_type": "code",
   "execution_count": 18,
   "metadata": {},
   "outputs": [
    {
     "name": "stderr",
     "output_type": "stream",
     "text": [
      "IOPub data rate exceeded.\n",
      "The notebook server will temporarily stop sending output\n",
      "to the client in order to avoid crashing it.\n",
      "To change this limit, set the config variable\n",
      "`--NotebookApp.iopub_data_rate_limit`.\n",
      "\n",
      "Current values:\n",
      "NotebookApp.iopub_data_rate_limit=1000000.0 (bytes/sec)\n",
      "NotebookApp.rate_limit_window=3.0 (secs)\n",
      "\n"
     ]
    }
   ],
   "source": [
    "texts=[]\n",
    "\n",
    "with open(source, encoding='UTF-8') as datafile:\n",
    "    sample_data=json.load(datafile)\n",
    "    for tweet in sample_data:\n",
    "        text=tweet['text']\n",
    "        texts.append(text)\n",
    "     \n",
    "        \n",
    "        \n"
   ]
  },
  {
   "cell_type": "code",
   "execution_count": 20,
   "metadata": {},
   "outputs": [
    {
     "name": "stdout",
     "output_type": "stream",
     "text": [
      "Very thankful for President Xi of China’s kind words on tariffs and automobile barriers...also, his enlightenment on intellectual property and technology transfers. We will make great progress together!\n"
     ]
    }
   ],
   "source": [
    "print(texts[0])"
   ]
  },
  {
   "cell_type": "code",
   "execution_count": 22,
   "metadata": {
    "collapsed": true
   },
   "outputs": [],
   "source": [
    "text=texts[0]\n",
    "for t in texts:\n",
    "   \n",
    "   if t!=text:\n",
    "       text=text+\" \"+t"
   ]
  },
  {
   "cell_type": "code",
   "execution_count": 33,
   "metadata": {
    "collapsed": true
   },
   "outputs": [],
   "source": [
    "def word_count(str):\n",
    "    counts = dict()\n",
    "    words = str.split()\n",
    "\n",
    "    for word in words:\n",
    "        if word in counts:\n",
    "            counts[word] += 1\n",
    "        else:\n",
    "            counts[word] = 1\n",
    "\n",
    "    return counts\n",
    "\n",
    "text_count = word_count(text)"
   ]
  },
  {
   "cell_type": "code",
   "execution_count": 45,
   "metadata": {},
   "outputs": [
    {
     "data": {
      "text/plain": [
       "!                        81\n",
       "!!                       23\n",
       "!!!                      17\n",
       "!!!!                      3\n",
       "!!!!!                     2\n",
       "!!!!!!                    1\n",
       "!!!!!!!                   2\n",
       "!!!!!!\"                   2\n",
       "!!!!!\"                    3\n",
       "!!!!\"                     7\n",
       "!!!\"                     13\n",
       "!!!#Trump2016\"            1\n",
       "!!!“@realDonaldTrump:     1\n",
       "!!\"                      30\n",
       "!\"                       67\n",
       "!\"Thanks                  1\n",
       "!?\"                       1\n",
       "\"                        43\n",
       "\"\"                        1\n",
       "\"\"@zraph                  1\n",
       "\"\"Our                     1\n",
       "\"#DonaldTrump             1\n",
       "\"#REALTIME:               1\n",
       "\"#RaffaeleSollecito       1\n",
       "\"'Everything              1\n",
       "\"'Good                    1\n",
       "\"'It's                    1\n",
       "\"'Trump                   1\n",
       "\"'You've                  1\n",
       "\".                        1\n",
       "                         ..\n",
       "😘😘😘\"                      1\n",
       "😝\"                        1\n",
       "😡\"                        1\n",
       "😢\"                        2\n",
       "😣\"                        1\n",
       "😩\"                        1\n",
       "😬                         1\n",
       "😱                         1\n",
       "😳                         1\n",
       "😳\"                        1\n",
       "😴💤                        1\n",
       "🙅🙅🙅🙅\"                     1\n",
       "🙌\"                        1\n",
       "🙌🇺🇸✔️                     1\n",
       "🙌🏻                        1\n",
       "🙌🏻🙌🏻🙌🏻                    1\n",
       "🙌🏼                        1\n",
       "🙌🙌🙌🙌🙌🙌\"                   1\n",
       "🙏                         1\n",
       "🙏\"                        5\n",
       "🙏🏻\"                       1\n",
       "🙏🙏🙏                       1\n",
       "🚀                         1\n",
       "🚂                         1\n",
       "🚂☁🇺🇸🇺🇸\"                   1\n",
       "🚂🇺🇸🎈\"                     1\n",
       "🚂💨💨🇺🇸🇺🇸🇺🇸                 1\n",
       "🚨BREAKING🚨:               1\n",
       "🦃                         1\n",
       "􏰀                         1\n",
       "Name: word count, Length: 81523, dtype: int64"
      ]
     },
     "execution_count": 45,
     "metadata": {},
     "output_type": "execute_result"
    }
   ],
   "source": [
    "d = text_count\n",
    "s = pd.Series(d, name='word count')\n",
    "#s.sort_values(by=['col1'])\n",
    "#s.reset_index()\n",
    "s"
   ]
  },
  {
   "cell_type": "code",
   "execution_count": null,
   "metadata": {
    "collapsed": true
   },
   "outputs": [],
   "source": []
  }
 ],
 "metadata": {
  "kernelspec": {
   "display_name": "Python 3",
   "language": "python",
   "name": "python3"
  },
  "language_info": {
   "codemirror_mode": {
    "name": "ipython",
    "version": 3
   },
   "file_extension": ".py",
   "mimetype": "text/x-python",
   "name": "python",
   "nbconvert_exporter": "python",
   "pygments_lexer": "ipython3",
   "version": "3.6.3"
  }
 },
 "nbformat": 4,
 "nbformat_minor": 2
}
