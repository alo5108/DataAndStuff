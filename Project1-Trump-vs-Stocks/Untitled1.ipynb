{
 "cells": [
  {
   "cell_type": "code",
   "execution_count": 18,
   "metadata": {
    "collapsed": true
   },
   "outputs": [],
   "source": [
    "# Dependencies\n",
    "import tweepy\n",
    "import json"
   ]
  },
  {
   "cell_type": "code",
   "execution_count": 19,
   "metadata": {
    "collapsed": true
   },
   "outputs": [],
   "source": [
    "consumer_key = \"evHVYPKDjAJ0JAitpY49z7KJ4\"\n",
    "consumer_secret = \"MpG65nQZOuf0ErIyEtaUDPA0J8aI2qIdGRcbeLmgIpXuOXbCKM\"\n",
    "access_token = \"979169626012631041-vEFBfFZ1FCam3j9lRdqcMwn27aA2puX\"\n",
    "access_token_secret = \"I1AJRehHaXYZbfuYs1x64hVth0nzKALMhMLxOjU2pkSmN\""
   ]
  },
  {
   "cell_type": "code",
   "execution_count": 20,
   "metadata": {
    "collapsed": true
   },
   "outputs": [],
   "source": [
    "# Setup Tweepy API Authentication\n",
    "auth = tweepy.OAuthHandler(consumer_key, consumer_secret)\n",
    "auth.set_access_token(access_token, access_token_secret)\n",
    "api = tweepy.API(auth, parser=tweepy.parsers.JSONParser())"
   ]
  },
  {
   "cell_type": "code",
   "execution_count": 29,
   "metadata": {},
   "outputs": [
    {
     "name": "stdout",
     "output_type": "stream",
     "text": [
      "{\n",
      "    \"contributors\": null,\n",
      "    \"coordinates\": null,\n",
      "    \"created_at\": \"Fri Mar 02 16:29:37 +0000 2018\",\n",
      "    \"entities\": {\n",
      "        \"hashtags\": [],\n",
      "        \"symbols\": [],\n",
      "        \"urls\": [\n",
      "            {\n",
      "                \"display_url\": \"twitter.com/i/web/status/9\\u2026\",\n",
      "                \"expanded_url\": \"https://twitter.com/i/web/status/969610687520452608\",\n",
      "                \"indices\": [\n",
      "                    116,\n",
      "                    139\n",
      "                ],\n",
      "                \"url\": \"https://t.co/7yDoSvRWNC\"\n",
      "            }\n",
      "        ],\n",
      "        \"user_mentions\": [\n",
      "            {\n",
      "                \"id\": 61373822,\n",
      "                \"id_str\": \"61373822\",\n",
      "                \"indices\": [\n",
      "                    62,\n",
      "                    72\n",
      "                ],\n",
      "                \"name\": \"Prashanth V\",\n",
      "                \"screen_name\": \"prashvish\"\n",
      "            },\n",
      "            {\n",
      "                \"id\": 99939530,\n",
      "                \"id_str\": \"99939530\",\n",
      "                \"indices\": [\n",
      "                    86,\n",
      "                    101\n",
      "                ],\n",
      "                \"name\": \"Amit Mehra\",\n",
      "                \"screen_name\": \"amitmehraphoto\"\n",
      "            }\n",
      "        ]\n",
      "    },\n",
      "    \"favorite_count\": 9014,\n",
      "    \"favorited\": false,\n",
      "    \"geo\": null,\n",
      "    \"id\": 969610687520452608,\n",
      "    \"id_str\": \"969610687520452608\",\n",
      "    \"in_reply_to_screen_name\": null,\n",
      "    \"in_reply_to_status_id\": null,\n",
      "    \"in_reply_to_status_id_str\": null,\n",
      "    \"in_reply_to_user_id\": null,\n",
      "    \"in_reply_to_user_id_str\": null,\n",
      "    \"is_quote_status\": false,\n",
      "    \"lang\": \"en\",\n",
      "    \"place\": null,\n",
      "    \"possibly_sensitive\": false,\n",
      "    \"retweet_count\": 1641,\n",
      "    \"retweeted\": false,\n",
      "    \"source\": \"<a href=\\\"http://twitter.com\\\" rel=\\\"nofollow\\\">Twitter Web Client</a>\",\n",
      "    \"text\": \"Stunning photos that capture the colorful festival of Holi by @prashvish in Nandgaon, @amitmehraphoto in Vrindavan\\u2026 https://t.co/7yDoSvRWNC\",\n",
      "    \"truncated\": true,\n",
      "    \"user\": {\n",
      "        \"contributors_enabled\": false,\n",
      "        \"created_at\": \"Wed Jul 31 22:41:25 +0000 2013\",\n",
      "        \"default_profile\": false,\n",
      "        \"default_profile_image\": false,\n",
      "        \"description\": \"CEO Apple, Fan of Auburn football and Duke basketball\",\n",
      "        \"entities\": {\n",
      "            \"description\": {\n",
      "                \"urls\": []\n",
      "            }\n",
      "        },\n",
      "        \"favourites_count\": 1130,\n",
      "        \"follow_request_sent\": false,\n",
      "        \"followers_count\": 10650773,\n",
      "        \"following\": false,\n",
      "        \"friends_count\": 56,\n",
      "        \"geo_enabled\": true,\n",
      "        \"has_extended_profile\": false,\n",
      "        \"id\": 1636590253,\n",
      "        \"id_str\": \"1636590253\",\n",
      "        \"is_translation_enabled\": false,\n",
      "        \"is_translator\": false,\n",
      "        \"lang\": \"en\",\n",
      "        \"listed_count\": 19135,\n",
      "        \"location\": \"Cupertino\",\n",
      "        \"name\": \"Tim Cook\",\n",
      "        \"notifications\": false,\n",
      "        \"profile_background_color\": \"C0DEED\",\n",
      "        \"profile_background_image_url\": \"http://abs.twimg.com/images/themes/theme1/bg.png\",\n",
      "        \"profile_background_image_url_https\": \"https://abs.twimg.com/images/themes/theme1/bg.png\",\n",
      "        \"profile_background_tile\": false,\n",
      "        \"profile_image_url\": \"http://pbs.twimg.com/profile_images/378800000483764274/ebce94fb34c055f3dc238627a576d251_normal.jpeg\",\n",
      "        \"profile_image_url_https\": \"https://pbs.twimg.com/profile_images/378800000483764274/ebce94fb34c055f3dc238627a576d251_normal.jpeg\",\n",
      "        \"profile_link_color\": \"0084B4\",\n",
      "        \"profile_sidebar_border_color\": \"FFFFFF\",\n",
      "        \"profile_sidebar_fill_color\": \"DDEEF6\",\n",
      "        \"profile_text_color\": \"333333\",\n",
      "        \"profile_use_background_image\": false,\n",
      "        \"protected\": false,\n",
      "        \"screen_name\": \"tim_cook\",\n",
      "        \"statuses_count\": 536,\n",
      "        \"time_zone\": \"Pacific Time (US & Canada)\",\n",
      "        \"translator_type\": \"none\",\n",
      "        \"url\": null,\n",
      "        \"utc_offset\": -25200,\n",
      "        \"verified\": true\n",
      "    }\n",
      "}\n"
     ]
    }
   ],
   "source": [
    "target_user = \"@tim_cook\"\n",
    "\n",
    "for user in target_user:\n",
    "    \n",
    "     for x in range(1, 5):\n",
    "            public_tweets = api.user_timeline(target_user)\n",
    "            \n",
    "\n",
    "    # Utilize JSON dumps to generate a pretty-printed json\n",
    "print(json.dumps(tweet, sort_keys=True, indent=4))"
   ]
  },
  {
   "cell_type": "code",
   "execution_count": 30,
   "metadata": {},
   "outputs": [
    {
     "name": "stdout",
     "output_type": "stream",
     "text": [
      "20\n"
     ]
    }
   ],
   "source": [
    "print(len(public_tweets))"
   ]
  },
  {
   "cell_type": "code",
   "execution_count": null,
   "metadata": {
    "collapsed": true
   },
   "outputs": [],
   "source": []
  }
 ],
 "metadata": {
  "kernelspec": {
   "display_name": "Python 3",
   "language": "python",
   "name": "python3"
  },
  "language_info": {
   "codemirror_mode": {
    "name": "ipython",
    "version": 3
   },
   "file_extension": ".py",
   "mimetype": "text/x-python",
   "name": "python",
   "nbconvert_exporter": "python",
   "pygments_lexer": "ipython3",
   "version": "3.6.3"
  }
 },
 "nbformat": 4,
 "nbformat_minor": 2
}
